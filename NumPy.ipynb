{
  "nbformat": 4,
  "nbformat_minor": 0,
  "metadata": {
    "colab": {
      "provenance": [],
      "authorship_tag": "ABX9TyP7t1v9o++twW4uEx7xo5Yo",
      "include_colab_link": true
    },
    "kernelspec": {
      "name": "python3",
      "display_name": "Python 3"
    },
    "language_info": {
      "name": "python"
    }
  },
  "cells": [
    {
      "cell_type": "markdown",
      "metadata": {
        "id": "view-in-github",
        "colab_type": "text"
      },
      "source": [
        "<a href=\"https://colab.research.google.com/github/punithpunii/Python/blob/Numpy_Problems/NumPy.ipynb\" target=\"_parent\"><img src=\"https://colab.research.google.com/assets/colab-badge.svg\" alt=\"Open In Colab\"/></a>"
      ]
    },
    {
      "cell_type": "markdown",
      "source": [
        "1. Write a Python program to convert a list of numeric value into a one-dimensional\n",
        "NumPy array.\n",
        "Expected Output:\n",
        "Original List: [12.23, 13.32, 100, 36.32]\n",
        "One-dimensional numpy array: [ 12.23 13.32 100. 36.32]"
      ],
      "metadata": {
        "id": "bQPwMBu09n7Q"
      }
    },
    {
      "cell_type": "code",
      "execution_count": 17,
      "metadata": {
        "colab": {
          "base_uri": "https://localhost:8080/"
        },
        "id": "2y-GGBqe8Ilt",
        "outputId": "963e10dd-b02f-4c95-8c48-0daa57dace7e"
      },
      "outputs": [
        {
          "output_type": "stream",
          "name": "stdout",
          "text": [
            "(4,)\n",
            "[ 12.23  13.32 100.    36.32]\n"
          ]
        }
      ],
      "source": [
        "import numpy as np\n",
        "list1 = [12.23, 13.32, 100, 36.32]\n",
        "arr1=np.array(list1)\n",
        "print(arr1.shape)\n",
        "print(arr1)\n"
      ]
    },
    {
      "cell_type": "markdown",
      "source": [
        "2. Create a 3x3 matrix with values ranging from 2 to 10.\n",
        "Expected Output:\n",
        "[[ 2 3 4]\n",
        "[ 5 6 7]\n",
        "[ 8 9 10]]"
      ],
      "metadata": {
        "id": "Y1H0R54M-DJZ"
      }
    },
    {
      "cell_type": "code",
      "source": [
        "arr2 = np.arange(2,11).reshape(3,3)\n",
        "arr2 = np.matrix(arr2)\n",
        "print(arr2)\n",
        "print(arr2.shape)\n",
        "print(type(arr2))"
      ],
      "metadata": {
        "colab": {
          "base_uri": "https://localhost:8080/"
        },
        "id": "I4W-rNVJ-Gxp",
        "outputId": "d856a378-c8db-49e0-f9b1-87399cc80bad"
      },
      "execution_count": 16,
      "outputs": [
        {
          "output_type": "stream",
          "name": "stdout",
          "text": [
            "[[ 2  3  4]\n",
            " [ 5  6  7]\n",
            " [ 8  9 10]]\n",
            "(3, 3)\n",
            "<class 'numpy.matrix'>\n"
          ]
        }
      ]
    },
    {
      "cell_type": "markdown",
      "source": [
        "3. How do you create a 2D array of shape (3, 3) with all elements as zeros?"
      ],
      "metadata": {
        "id": "36h0zbkYDiXA"
      }
    },
    {
      "cell_type": "code",
      "source": [
        "arr1 = np.zeros((3,3))\n",
        "print(arr1)"
      ],
      "metadata": {
        "colab": {
          "base_uri": "https://localhost:8080/"
        },
        "id": "ppnL9RxBDmoX",
        "outputId": "f14c87c1-d5fa-454b-a67d-9bedac8101aa"
      },
      "execution_count": 18,
      "outputs": [
        {
          "output_type": "stream",
          "name": "stdout",
          "text": [
            "[[0. 0. 0.]\n",
            " [0. 0. 0.]\n",
            " [0. 0. 0.]]\n"
          ]
        }
      ]
    },
    {
      "cell_type": "markdown",
      "source": [
        "4. Write a Python program to create a 2d array with 1 on the border and 0 inside.\n",
        "Expected Output:\n",
        "Original array:\n",
        "[[ 1. 1. 1. 1. 1.]\n",
        "[ 1. 1. 1. 1. 1.]\n",
        "[ 1. 1. 1. 1. 1.]\n",
        "[ 1. 1. 1. 1. 1.]\n",
        "[ 1. 1. 1. 1. 1.]]\n",
        "1 on the border and 0 inside in the array\n",
        "[[ 1. 1. 1. 1. 1.]\n",
        "[ 1. 0. 0. 0. 1.]\n",
        "[ 1. 0. 0. 0. 1.]\n",
        "[ 1. 0. 0. 0. 1.]\n",
        "[ 1. 1. 1. 1. 1.]]"
      ],
      "metadata": {
        "id": "xfVeYjjnZpcu"
      }
    },
    {
      "cell_type": "code",
      "source": [
        "original_arr = np.ones((5,5))\n",
        "print((original_arr))\n",
        "original_arr[1:-1,1:-1]=0\n",
        "print(original_arr)"
      ],
      "metadata": {
        "colab": {
          "base_uri": "https://localhost:8080/"
        },
        "id": "aUeLJtaFZsAM",
        "outputId": "ab6b9575-19d4-448d-9ca2-24463caf6e40"
      },
      "execution_count": 22,
      "outputs": [
        {
          "output_type": "stream",
          "name": "stdout",
          "text": [
            "[[1. 1. 1. 1. 1.]\n",
            " [1. 1. 1. 1. 1.]\n",
            " [1. 1. 1. 1. 1.]\n",
            " [1. 1. 1. 1. 1.]\n",
            " [1. 1. 1. 1. 1.]]\n",
            "[[1. 1. 1. 1. 1.]\n",
            " [1. 0. 0. 0. 1.]\n",
            " [1. 0. 0. 0. 1.]\n",
            " [1. 0. 0. 0. 1.]\n",
            " [1. 1. 1. 1. 1.]]\n"
          ]
        }
      ]
    },
    {
      "cell_type": "code",
      "source": [
        "arr1=np.array([1,2,3,4,5,6,7,8,9])\n",
        "arr2=arr1.reshape(3,3)\n",
        "print(arr2)"
      ],
      "metadata": {
        "colab": {
          "base_uri": "https://localhost:8080/"
        },
        "id": "GboTm7NLbTII",
        "outputId": "8b277c78-4b68-4aed-fabc-41afe1b392a5"
      },
      "execution_count": 43,
      "outputs": [
        {
          "output_type": "stream",
          "name": "stdout",
          "text": [
            "[[1 2 3]\n",
            " [4 5 6]\n",
            " [7 8 9]]\n"
          ]
        }
      ]
    },
    {
      "cell_type": "markdown",
      "source": [
        "5. Write a Python program to reverse an array (first element becomes last).\n",
        "Original array:\n",
        "[12 13 14 15 16 17 18 19 20 21 22 23 24 25 26 27 28 29 30 31 32 33 34 35 36 37]\n",
        "Reverse array:\n",
        "[37 36 35 34 33 32 31 30 29 28 27 26 25 24 23 22 21 20 19 18 17 16 15 14 13 12]"
      ],
      "metadata": {
        "id": "QrKpAQQ0MfnM"
      }
    },
    {
      "cell_type": "code",
      "source": [
        "import numpy as np\n",
        "arr1 = np.array([12, 13, 14, 15, 16, 17,18, 19, 20, 21, 22, 23, 24, 25, 26, 27, 28, 29, 30, 31, 32, 33, 34, 35, 36, 37])\n",
        "arr1 = arr1[::-1]\n",
        "print(arr1)"
      ],
      "metadata": {
        "colab": {
          "base_uri": "https://localhost:8080/"
        },
        "id": "Q-CoiIrGMhHj",
        "outputId": "fcf0a818-01f3-4fb8-927e-1b10d2dd0e5d"
      },
      "execution_count": 4,
      "outputs": [
        {
          "output_type": "stream",
          "name": "stdout",
          "text": [
            "[37 36 35 34 33 32 31 30 29 28 27 26 25 24 23 22 21 20 19 18 17 16 15 14\n",
            " 13 12]\n"
          ]
        }
      ]
    },
    {
      "cell_type": "markdown",
      "source": [
        "6. Write a Python program to create a null vector of size 10 and update sixth value to 11.\n",
        "[ 0. 0. 0. 0. 0. 0. 0. 0. 0. 0.]\n",
        "Update sixth value to 11\n",
        "[ 0. 0. 0. 0. 0. 0. 11. 0. 0. 0.]"
      ],
      "metadata": {
        "id": "m3VAKTX3O4uP"
      }
    },
    {
      "cell_type": "code",
      "source": [
        "array_1 = np.zeros(10)\n",
        "print(array_1)\n",
        "array_1[6] = 11.\n",
        "print(array_1)"
      ],
      "metadata": {
        "colab": {
          "base_uri": "https://localhost:8080/"
        },
        "id": "AWm4X0h2O9MA",
        "outputId": "1b57d5f0-4ed9-4803-9533-9e7cc463b482"
      },
      "execution_count": 7,
      "outputs": [
        {
          "output_type": "stream",
          "name": "stdout",
          "text": [
            "[0. 0. 0. 0. 0. 0. 0. 0. 0. 0.]\n",
            "[ 0.  0.  0.  0.  0.  0. 11.  0.  0.  0.]\n"
          ]
        }
      ]
    },
    {
      "cell_type": "markdown",
      "source": [
        "6. Write a Python program to add a border (filled with 0's) around an existing array.\n",
        "Expected Output:\n",
        "Original array:\n",
        "[[ 1. 1. 1.]\n",
        "[ 1. 1. 1.]\n",
        "[ 1. 1. 1.]]\n",
        "1 on the border and 0 inside in the array\n",
        "[[ 0. 0. 0. 0. 0.]\n",
        "[ 0. 1. 1. 1. 0.]\n",
        "[ 0. 1. 1. 1. 0.]\n",
        "[ 0. 1. 1. 1. 0.]\n",
        "[ 0. 0. 0. 0. 0.]]"
      ],
      "metadata": {
        "id": "7gXuw6T9Plr8"
      }
    },
    {
      "cell_type": "code",
      "source": [
        "arr_1 = np.array([[ 1., 2],\n",
        "                [ 3, 4],\n",
        "                [ 5, 6]])\n",
        "sec_arr = np.zeros((arr_1.shape[0]+2,arr_1.shape[1]+2))\n",
        "#print(sec_arr)\n",
        "sec_arr[1:-1,1:-1] = arr_1\n",
        "#print(sec_arr)\n",
        "arr2 = np.pad(arr_1,pad_width=1,mode=\"constant\",constant_values=0)\n",
        "print(arr2)\n"
      ],
      "metadata": {
        "colab": {
          "base_uri": "https://localhost:8080/"
        },
        "id": "UYtbvLdjP6v6",
        "outputId": "5dfc8a17-d3ce-403a-9734-78e89635c956"
      },
      "execution_count": 106,
      "outputs": [
        {
          "output_type": "stream",
          "name": "stdout",
          "text": [
            "[[0. 0. 0. 0.]\n",
            " [0. 1. 2. 0.]\n",
            " [0. 3. 4. 0.]\n",
            " [0. 5. 6. 0.]\n",
            " [0. 0. 0. 0.]]\n"
          ]
        }
      ]
    },
    {
      "cell_type": "markdown",
      "source": [
        "7. Write a Python program to create a 8x8 matrix and fill it with a checkerboard pattern.\n",
        "Checkerboard pattern:\n",
        "[[0 1 0 1 0 1 0 1]\n",
        "[1 0 1 0 1 0 1 0]\n",
        "[0 1 0 1 0 1 0 1]\n",
        "[1 0 1 0 1 0 1 0]\n",
        "[0 1 0 1 0 1 0 1]\n",
        "[1 0 1 0 1 0 1 0]\n",
        "[0 1 0 1 0 1 0 1]\n",
        "[1 0 1 0 1 0 1 0]]\n"
      ],
      "metadata": {
        "id": "9MKHQOwaWOzz"
      }
    },
    {
      "cell_type": "code",
      "source": [
        "check_arr = np.zeros((8,8))\n",
        "check_arr[1::2,::2] = 1\n",
        "check_arr[::2,1::2] = 1\n",
        "print(check_arr)"
      ],
      "metadata": {
        "colab": {
          "base_uri": "https://localhost:8080/"
        },
        "id": "76jbtjM-WSb9",
        "outputId": "7fc24bde-8d7b-491f-b656-471ada3c10ba"
      },
      "execution_count": 22,
      "outputs": [
        {
          "output_type": "stream",
          "name": "stdout",
          "text": [
            "[[0. 1. 0. 1. 0. 1. 0. 1.]\n",
            " [1. 0. 1. 0. 1. 0. 1. 0.]\n",
            " [0. 1. 0. 1. 0. 1. 0. 1.]\n",
            " [1. 0. 1. 0. 1. 0. 1. 0.]\n",
            " [0. 1. 0. 1. 0. 1. 0. 1.]\n",
            " [1. 0. 1. 0. 1. 0. 1. 0.]\n",
            " [0. 1. 0. 1. 0. 1. 0. 1.]\n",
            " [1. 0. 1. 0. 1. 0. 1. 0.]]\n"
          ]
        }
      ]
    },
    {
      "cell_type": "markdown",
      "source": [
        "8. Write a Python program to convert a list and tuple into arrays.\n",
        "List to array:\n",
        "[1 2 3 4 5 6 7 8]\n",
        "Tuple to array:\n",
        "[[8 4 6]\n",
        "[1 2 3]]"
      ],
      "metadata": {
        "id": "J12m60NDaRHA"
      }
    },
    {
      "cell_type": "code",
      "source": [
        "list1 = [1, 2, 3, 4, 5, 6, 7, 8]\n",
        "tuple1 = ((8, 4, 6), (1, 2, 3))\n",
        "arr1 = np.array(list1)\n",
        "print(arr1)\n",
        "arr2 = np.array(tuple1)\n",
        "print(arr2)"
      ],
      "metadata": {
        "colab": {
          "base_uri": "https://localhost:8080/"
        },
        "id": "j_6UyW-ZaU_U",
        "outputId": "9648ac99-6d44-41ae-9882-565fe636078b"
      },
      "execution_count": 24,
      "outputs": [
        {
          "output_type": "stream",
          "name": "stdout",
          "text": [
            "[1 2 3 4 5 6 7 8]\n",
            "[[8 4 6]\n",
            " [1 2 3]]\n"
          ]
        }
      ]
    },
    {
      "cell_type": "markdown",
      "source": [
        "9. Write a Python program to append values to the end of an array.\n",
        "Expected Output:\n",
        "Original array:\n",
        "[10, 20, 30]\n",
        "After append values to the end of the array:\n",
        "[10 20 30 40 50 60 70 80 90]"
      ],
      "metadata": {
        "id": "4wKAi5RDbKiI"
      }
    },
    {
      "cell_type": "code",
      "source": [
        "original_array = np.array([10, 20, 30])\n",
        "val_to_append = np.array([40, 50, 60, 70, 80, 90])\n",
        "original_array = np.append(original_array, val_to_append)\n",
        "print(original_array)\n"
      ],
      "metadata": {
        "colab": {
          "base_uri": "https://localhost:8080/"
        },
        "id": "wrEhokKjbL8a",
        "outputId": "f5855662-b845-4710-96d1-903e52296cad"
      },
      "execution_count": 38,
      "outputs": [
        {
          "output_type": "stream",
          "name": "stdout",
          "text": [
            "[10 20 30 40 50 60 70 80 90]\n"
          ]
        }
      ]
    },
    {
      "cell_type": "markdown",
      "source": [
        "10. Write a Python program to find the real and imaginary parts of an array of complex\n",
        "numbers.\n",
        "Expected Output:\n",
        "Original array [ 1.00000000+0.j 0.70710678+0.70710678j]\n",
        "Real part of the array:\n",
        "[ 1. 0.70710678]\n",
        "Imaginary part of the array:\n",
        "[ 0. 0.70710678]\n"
      ],
      "metadata": {
        "id": "sCMX4n1feuiR"
      }
    },
    {
      "cell_type": "code",
      "source": [
        "original_array = np.array([ 1.00000000+0.j, 0.70710678+0.70710678j])\n",
        "print(original_array)\n",
        "print(\"Real Part \",original_array.real)\n",
        "print(\"Imaginary Part \",original_array.imag)\n"
      ],
      "metadata": {
        "colab": {
          "base_uri": "https://localhost:8080/"
        },
        "id": "T8kAH7IDez0I",
        "outputId": "b7e1c5a3-50f6-4401-f101-4f8903a6d93d"
      },
      "execution_count": 43,
      "outputs": [
        {
          "output_type": "stream",
          "name": "stdout",
          "text": [
            "[1.        +0.j         0.70710678+0.70710678j]\n",
            "Real Part  [1.         0.70710678]\n",
            "Imaginary Part  [0.         0.70710678]\n"
          ]
        }
      ]
    },
    {
      "cell_type": "markdown",
      "source": [
        "11. Write a Python program to find the number of elements of an array, length of one\n",
        "array element in bytes and total bytes consumed by the elements.\n",
        "Expected Output:\n",
        "Size of the array: 3\n",
        "Length of one array element in bytes: 8\n",
        "Total bytes consumed by the elements of the array: 24"
      ],
      "metadata": {
        "id": "UBERv5X8quee"
      }
    },
    {
      "cell_type": "code",
      "source": [
        "arr_1 = np.array([1, 2, 3])\n",
        "print(\"Size of the array: \",arr_1.size)\n",
        "print(np.size(arr_1,axis=0))\n",
        "print(\"Length of one array element in bytes: \",arr_1.itemsize)\n",
        "print(\"Total bytes consumed by the elements of the array: \",arr_1.nbytes)"
      ],
      "metadata": {
        "colab": {
          "base_uri": "https://localhost:8080/"
        },
        "id": "9a-v1r_TqySS",
        "outputId": "777729c9-97a3-4e6e-ba11-2ccdf6ce143c"
      },
      "execution_count": 53,
      "outputs": [
        {
          "output_type": "stream",
          "name": "stdout",
          "text": [
            "Size of the array:  3\n",
            "3\n",
            "Length of one array element in bytes:  8\n",
            "Total bytes consumed by the elements of the array:  24\n"
          ]
        }
      ]
    },
    {
      "cell_type": "markdown",
      "source": [
        "12. Write a Python program to find common values between two arrays.\n",
        "Expected Output:\n",
        "Array1: [ 0 10 20 40 60]\n",
        "Array2: [10, 30, 40]\n",
        "Common values between two arrays:\n",
        "[10 40]"
      ],
      "metadata": {
        "id": "L-RBnLftugmV"
      }
    },
    {
      "cell_type": "code",
      "source": [
        "array_1 = np.array([ 0, 10, 20, 40, 60])\n",
        "array_2 = np.array([10, 30, 40])\n",
        "\n",
        "array_3 = np.intersect1d(array_1,array_2)\n",
        "print(array_3)"
      ],
      "metadata": {
        "colab": {
          "base_uri": "https://localhost:8080/"
        },
        "id": "7c43FC95uiHL",
        "outputId": "05f15e98-fca0-4413-99d1-bbfb3c1cbc64"
      },
      "execution_count": 61,
      "outputs": [
        {
          "output_type": "stream",
          "name": "stdout",
          "text": [
            "[10 40]\n"
          ]
        }
      ]
    },
    {
      "cell_type": "markdown",
      "source": [
        "13. Write a Python program to find the set difference of two arrays. The set difference\n",
        "will return the sorted, unique values in array1 that are not in array2.\n",
        "Expected Output:\n",
        "Array1: [ 0 10 20 40 60 80]\n",
        "Array2: [10, 30, 40, 50, 70, 90]\n",
        "Set difference between two arrays:\n",
        "[ 0 20 60 80]"
      ],
      "metadata": {
        "id": "o78qZPT6-AWT"
      }
    },
    {
      "cell_type": "code",
      "source": [
        "array_1 = np.array([0, 10, 20, 40, 60, 80])\n",
        "array_2 = np.array([10, 30, 40, 50, 70, 90])\n",
        "print(np.setdiff1d(array_1,array_2))"
      ],
      "metadata": {
        "colab": {
          "base_uri": "https://localhost:8080/"
        },
        "id": "7zI9UzAa-BxZ",
        "outputId": "8ce34098-ecac-4854-9aba-fdaa76b78ab8"
      },
      "execution_count": 62,
      "outputs": [
        {
          "output_type": "stream",
          "name": "stdout",
          "text": [
            "[ 0 20 60 80]\n"
          ]
        }
      ]
    },
    {
      "cell_type": "markdown",
      "source": [
        "14. Write a Python program to find the set exclusive-or of two arrays. Set exclusive-or\n",
        "will return the sorted, unique values that are in only one (not both) of the input arrays.\n",
        "Array1: [ 0 10 20 40 60 80]\n",
        "Array2: [10, 30, 40, 50, 70]\n",
        "Unique values that are in only one (not both) of the input arrays:\n",
        "[ 0 20 30 50 60 70 80]"
      ],
      "metadata": {
        "id": "9Dox5IFD-8tH"
      }
    },
    {
      "cell_type": "code",
      "source": [
        "array_1 = np.array([0, 10, 20, 40, 60, 80])\n",
        "array_2 = np.array([10, 30, 40, 50, 70, 90])\n",
        "print(np.setxor1d(array_1, array_2))"
      ],
      "metadata": {
        "colab": {
          "base_uri": "https://localhost:8080/"
        },
        "id": "99VkD7ca-_oR",
        "outputId": "eba1e98f-b30d-4960-88d6-aa7d281cc5f2"
      },
      "execution_count": 63,
      "outputs": [
        {
          "output_type": "stream",
          "name": "stdout",
          "text": [
            "[ 0 20 30 50 60 70 80 90]\n"
          ]
        }
      ]
    },
    {
      "cell_type": "markdown",
      "source": [
        "15. Write a Python program compare two arrays using numpy.\n",
        "Array a: [1 2]\n",
        "Array b: [4 5]\n",
        "a > b\n",
        "[False False]\n",
        "a >= b\n",
        "[False False]\n",
        "a < b\n",
        "[ True True]\n",
        "a <= b\n",
        "[ True True]"
      ],
      "metadata": {
        "id": "OR4UY4gNCB39"
      }
    },
    {
      "cell_type": "code",
      "source": [
        "array_a = np.array([1, 2])\n",
        "array_b = np.array([4, 5])\n",
        "print(array_a == array_b)\n",
        "print(np.all(array_a < array_b))\n",
        "print(\"a > b \",array_a > array_b)\n",
        "print(\"a >= b \",array_a >= array_b)\n",
        "print(\"a < b \",array_a < array_b)\n",
        "print(\"a <= b \",array_a <= array_b)"
      ],
      "metadata": {
        "colab": {
          "base_uri": "https://localhost:8080/"
        },
        "id": "JLnDGzH3JOCT",
        "outputId": "c5fa415f-1bc8-44f9-de64-8090a7537da6"
      },
      "execution_count": 94,
      "outputs": [
        {
          "output_type": "stream",
          "name": "stdout",
          "text": [
            "[False False]\n",
            "True\n",
            "a > b  [False False]\n",
            "a >= b  [False False]\n",
            "a < b  [ True  True]\n",
            "a <= b  [ True  True]\n"
          ]
        }
      ]
    },
    {
      "cell_type": "markdown",
      "source": [
        "Write a Python program to save a NumPy array to a text file."
      ],
      "metadata": {
        "id": "Za54eg26QIFm"
      }
    },
    {
      "cell_type": "code",
      "source": [
        "org_arr = np.array([[10, 20, 30], [20, 40, 50]])\n",
        "np.savetxt(\"array.txt\",org_arr,fmt = \"%d\")\n",
        "load_data = np.loadtxt(\"array.txt\",dtype = int)\n",
        "print(load_data)"
      ],
      "metadata": {
        "colab": {
          "base_uri": "https://localhost:8080/"
        },
        "id": "tQl1YQ6LQLoz",
        "outputId": "ed627bbb-6090-4de4-b0f0-7f6ede61845b"
      },
      "execution_count": 133,
      "outputs": [
        {
          "output_type": "stream",
          "name": "stdout",
          "text": [
            "[[10 20 30]\n",
            " [20 40 50]]\n"
          ]
        }
      ]
    },
    {
      "cell_type": "markdown",
      "source": [
        "16. Write a Python program to create a contiguous flattened array.\n",
        "Original array:\n",
        "[[10 20 30]\n",
        "[20 40 50]]\n",
        "New flattened array:\n",
        "[10 20 30 20 40 50]"
      ],
      "metadata": {
        "id": "8a6B3LlIQzn_"
      }
    },
    {
      "cell_type": "code",
      "source": [
        "org_arr = np.array([[10, 20, 30], [20, 40, 50]])\n",
        "org_arr = org_arr.flatten()\n",
        "print(org_arr)"
      ],
      "metadata": {
        "colab": {
          "base_uri": "https://localhost:8080/"
        },
        "id": "dCI0EvH9Q28I",
        "outputId": "6c62f7ba-9b99-448e-a792-353f9403abfc"
      },
      "execution_count": 116,
      "outputs": [
        {
          "output_type": "stream",
          "name": "stdout",
          "text": [
            "[10 20 30 20 40 50]\n"
          ]
        }
      ]
    },
    {
      "cell_type": "markdown",
      "source": [
        "17. Write a Python program to change the data type of an array.\n",
        "Expected Output:\n",
        "[[ 2 4 6]\n",
        "[ 6 8 10]]\n",
        "Data type of the array x is: int32\n",
        "New Type: float64\n",
        "[[ 2. 4. 6.]\n",
        "[ 6. 8. 10.]]"
      ],
      "metadata": {
        "id": "kvYAJ5vDRx16"
      }
    },
    {
      "cell_type": "code",
      "source": [
        "arr1 = np.array([[2, 4, 6], [6, 8, 10]])\n",
        "print(arr1.dtype)\n",
        "arr2 = np.array(arr1, dtype=float)\n",
        "print(arr2.dtype)\n",
        "print(arr2)"
      ],
      "metadata": {
        "colab": {
          "base_uri": "https://localhost:8080/"
        },
        "id": "qyLyZXtJRzDF",
        "outputId": "33ff38f0-3590-4741-f404-6dc80963e821"
      },
      "execution_count": 100,
      "outputs": [
        {
          "output_type": "stream",
          "name": "stdout",
          "text": [
            "int64\n",
            "float64\n",
            "[[ 2.  4.  6.]\n",
            " [ 6.  8. 10.]]\n"
          ]
        }
      ]
    },
    {
      "cell_type": "markdown",
      "source": [
        "18. Write a Python program to create a 3-D array with ones on a diagonal and zeros\n",
        "elsewhere.\n",
        "Expected Output:\n",
        "[[ 1. 0. 0.]\n",
        "[ 0. 1. 0.]\n",
        "[ 0. 0. 1.]]"
      ],
      "metadata": {
        "id": "lovLuzXTTXFm"
      }
    },
    {
      "cell_type": "code",
      "source": [
        "arr1 = np.eye(3,3)\n",
        "print(arr1)"
      ],
      "metadata": {
        "colab": {
          "base_uri": "https://localhost:8080/"
        },
        "id": "iBg-7oRrTiEz",
        "outputId": "7e05365f-d0eb-4c40-8a27-79404d8fdc1f"
      },
      "execution_count": 101,
      "outputs": [
        {
          "output_type": "stream",
          "name": "stdout",
          "text": [
            "[[1. 0. 0.]\n",
            " [0. 1. 0.]\n",
            " [0. 0. 1.]]\n"
          ]
        }
      ]
    },
    {
      "cell_type": "markdown",
      "source": [
        "19. Write a Python program to create an array which looks like below array.\n",
        "Expected Output:\n",
        "[[ 0. 0. 0.]\n",
        "[ 1. 0. 0.]\n",
        "[ 1. 1. 0.]\n",
        "[ 1. 1. 1.]]"
      ],
      "metadata": {
        "id": "M9hWKDhkTojN"
      }
    },
    {
      "cell_type": "code",
      "source": [
        "arr1 = np.zeros((4,3))\n",
        "print(arr1)\n",
        "arr1[1:,0] = arr1[2:,1] = arr1[-1,-1] = 1\n",
        "print(arr1)\n",
        "arr2 = np.zeros((4,3))\n",
        "for i in range(1,4):\n",
        "  arr2[i,:i] = 1\n",
        "print(arr2)"
      ],
      "metadata": {
        "colab": {
          "base_uri": "https://localhost:8080/"
        },
        "id": "Ayq7nLXBTq5z",
        "outputId": "c721b008-a2b6-4078-eeaa-c9d36af0ed89"
      },
      "execution_count": 19,
      "outputs": [
        {
          "output_type": "stream",
          "name": "stdout",
          "text": [
            "[[0. 0. 0.]\n",
            " [0. 0. 0.]\n",
            " [0. 0. 0.]\n",
            " [0. 0. 0.]]\n",
            "[[0. 0. 0.]\n",
            " [1. 0. 0.]\n",
            " [1. 1. 0.]\n",
            " [1. 1. 1.]]\n",
            "[[0. 0. 0.]\n",
            " [1. 0. 0.]\n",
            " [1. 1. 0.]\n",
            " [1. 1. 1.]]\n"
          ]
        }
      ]
    },
    {
      "cell_type": "markdown",
      "source": [
        "20. Write a Python program to concatenate two 2-dimensional arrays.\n",
        "Expected Output:\n",
        "Sample arrays: ([[0, 1, 3], [5, 7, 9]], [[0, 2, 4], [6, 8, 10]]\n",
        "Expected Output:\n",
        "[[ 0 1 3 0 2 4]\n",
        "[ 5 7 9 6 8 10]]"
      ],
      "metadata": {
        "id": "bqSZYjdTgDwV"
      }
    },
    {
      "cell_type": "code",
      "source": [
        "arr1 = np.array([[0, 1, 3], [5, 7, 9]])\n",
        "arr2 = np.array([[0, 2, 4], [6, 8, 10]])\n",
        "arr3 = np.concatenate((arr1,arr2),axis = 1)\n",
        "print(arr3)"
      ],
      "metadata": {
        "colab": {
          "base_uri": "https://localhost:8080/"
        },
        "id": "pPOUXnXvj6Y3",
        "outputId": "6484ec0d-f8ed-4912-dd05-1bde3b3e0fbf"
      },
      "execution_count": 126,
      "outputs": [
        {
          "output_type": "stream",
          "name": "stdout",
          "text": [
            "[[ 0  1  3  0  2  4]\n",
            " [ 5  7  9  6  8 10]]\n"
          ]
        }
      ]
    },
    {
      "cell_type": "markdown",
      "source": [
        "21. Write a Python program to make an array immutable (read-only).\n",
        "Expected Output:\n",
        "Test the array is read-only or not:\n",
        "Try to change the value of the first element:\n",
        "Traceback (most recent call last):\n",
        "File \"19236bd0-0bd9-11e7-a232-c706d0968eb6.py\", line 6, in\n",
        "x[0] = 1\n",
        "ValueError: assignment destination is read-only"
      ],
      "metadata": {
        "id": "agU-gViWlcGA"
      }
    },
    {
      "cell_type": "code",
      "source": [
        "import numpy as np\n",
        "array_1 = np.array([0, 10, 20, 40, 60, 80])\n",
        "array_1.flags.writeable = False\n",
        "try :\n",
        "  array_1[0] = 100\n",
        "except ValueError as e:\n",
        "  print(e)\n",
        "print(array_1)"
      ],
      "metadata": {
        "colab": {
          "base_uri": "https://localhost:8080/"
        },
        "id": "2lIcLTk3OkPZ",
        "outputId": "b34fe894-b9d2-477f-d27e-7c5b11dcfe77"
      },
      "execution_count": 9,
      "outputs": [
        {
          "output_type": "stream",
          "name": "stdout",
          "text": [
            "assignment destination is read-only\n",
            "[ 0 10 20 40 60 80]\n"
          ]
        }
      ]
    },
    {
      "cell_type": "markdown",
      "source": [
        "22. Write a Python program to create an array of (3, 4) shape, multiply every element\n",
        "value by 3 and display the new array.\n",
        "Expected Output:\n",
        "Original array elements:\n",
        "[[ 0 1 2 3]\n",
        "[ 4 5 6 7]\n",
        "[ 8 9 10 11]]\n",
        "New array elements:\n",
        "[[ 0 3 6 9]\n",
        "[12 15 18 21]\n",
        "[24 27 30 33]]"
      ],
      "metadata": {
        "id": "K1E8Z2wgR_yc"
      }
    },
    {
      "cell_type": "code",
      "source": [
        "org_arr = np.arange(12).reshape(3,4)\n",
        "print(org_arr)\n",
        "new_arr = org_arr * 3\n",
        "print(new_arr)\n"
      ],
      "metadata": {
        "colab": {
          "base_uri": "https://localhost:8080/"
        },
        "id": "4HDaGehOSBFt",
        "outputId": "568ef20b-5bba-479b-d425-b0953a5b72c4"
      },
      "execution_count": 14,
      "outputs": [
        {
          "output_type": "stream",
          "name": "stdout",
          "text": [
            "[[ 0  1  2  3]\n",
            " [ 4  5  6  7]\n",
            " [ 8  9 10 11]]\n",
            "[[ 0  3  6  9]\n",
            " [12 15 18 21]\n",
            " [24 27 30 33]]\n"
          ]
        }
      ]
    },
    {
      "cell_type": "markdown",
      "source": [
        "23. Write a Python program to convert a NumPy array into Python list structure.\n",
        "Expected Output:\n",
        "Original array elements:\n",
        "[[0 1]\n",
        "[2 3]\n",
        "[4 5]]\n",
        "Array to list:\n",
        "[[0, 1], [2, 3], [4, 5]]"
      ],
      "metadata": {
        "id": "zvPoTNq3UoI5"
      }
    },
    {
      "cell_type": "code",
      "source": [
        "arr1 = np.array([[0, 1], [2, 3], [4, 5]])\n",
        "print(type(arr1))\n",
        "arr2 = list(arr1)\n",
        "print(type(arr2))\n",
        "arr1 = arr1.tolist()\n",
        "print(arr1)\n",
        "print(type(arr1))"
      ],
      "metadata": {
        "colab": {
          "base_uri": "https://localhost:8080/"
        },
        "id": "Y8nJB4UjUpDb",
        "outputId": "6c080d46-1db5-4046-a8af-5f819cb6c6ba"
      },
      "execution_count": 22,
      "outputs": [
        {
          "output_type": "stream",
          "name": "stdout",
          "text": [
            "<class 'numpy.ndarray'>\n",
            "<class 'list'>\n",
            "[[0, 1], [2, 3], [4, 5]]\n",
            "<class 'list'>\n"
          ]
        }
      ]
    },
    {
      "cell_type": "markdown",
      "source": [
        "24. Write a Python program to convert a NumPy array into Python list structure.\n",
        "Expected Output:\n",
        "Original array elements:\n",
        "[ 0.26153123 0.52760141 0.5718299 0.5927067 0.7831874 0.69746349 0.35399976 0.99469633 0.0694458 0.54711478]\n",
        "Print array values with precision 3:\n",
        "[ 0.262 0.528 0.572 0.593 0.783 0.697 0.354 0.995 0.069 0.547]"
      ],
      "metadata": {
        "id": "YIr8zk2dWOe0"
      }
    },
    {
      "cell_type": "code",
      "source": [
        "array1 = np.array([0.26153123, 0.52760141, 0.5718299, 0.5927067, 0.7831874, 0.69746349,\n",
        "0.35399976, 0.99469633, 0.0694458, 0.54711478])\n",
        "array1 = np.round(array1, 3)\n",
        "print(array1)"
      ],
      "metadata": {
        "colab": {
          "base_uri": "https://localhost:8080/"
        },
        "id": "W9zCv1CcWXX0",
        "outputId": "cebc2e73-9087-43ef-9c25-e4ab5353d2de"
      },
      "execution_count": 25,
      "outputs": [
        {
          "output_type": "stream",
          "name": "stdout",
          "text": [
            "[0.262 0.528 0.572 0.593 0.783 0.697 0.354 0.995 0.069 0.547]\n"
          ]
        }
      ]
    },
    {
      "cell_type": "markdown",
      "source": [
        "25. Write a Python program to suppresses the use of scientific notation for small\n",
        "numbers in numpy array.\n",
        "Expected Output:\n",
        "Original array elements:\n",
        "[ 1.60000000e-10 1.60000000e+00 1.20000000e+03 2.35000000e-01]\n",
        "Print array values with precision 3:\n",
        "[ 0. 1.6 1200. 0.235]"
      ],
      "metadata": {
        "id": "HEVTr-zLXlPr"
      }
    },
    {
      "cell_type": "code",
      "source": [
        "arr_1 = np.array([1.60000000e-10, 1.60000000e+00, 1.20000000e+03, 2.35000000e-01])\n",
        "print(arr_1)\n",
        "np.set_printoptions(suppress=\"True\", precision= 3)\n",
        "print(arr_1)"
      ],
      "metadata": {
        "colab": {
          "base_uri": "https://localhost:8080/"
        },
        "id": "Z1mTSXKtXmb2",
        "outputId": "38a76de4-58b6-4572-ba89-1925350d7b79"
      },
      "execution_count": 35,
      "outputs": [
        {
          "output_type": "stream",
          "name": "stdout",
          "text": [
            "[   0.       1.6   1200.       0.235]\n",
            "[   0.       1.6   1200.       0.235]\n"
          ]
        }
      ]
    },
    {
      "cell_type": "markdown",
      "source": [
        "26. Write a Python program to how to add an extra column to an numpy array.\n",
        "Expected Output:\n",
        "[[ 10 20 30 100]\n",
        "[ 40 50 60 200]]"
      ],
      "metadata": {
        "id": "sgjhzav5aXw-"
      }
    },
    {
      "cell_type": "code",
      "source": [
        "org_array = np.array([[10, 20, 30], [40, 50, 60]])\n",
        "ext_array = np.array([[100], [200]])\n",
        "org_array = np.append(org_array,ext_array,axis=1)\n",
        "print(org_array)"
      ],
      "metadata": {
        "colab": {
          "base_uri": "https://localhost:8080/"
        },
        "id": "DZqj68nXaaKl",
        "outputId": "25156805-68ab-451f-968e-2d227151153e"
      },
      "execution_count": 40,
      "outputs": [
        {
          "output_type": "stream",
          "name": "stdout",
          "text": [
            "[[ 10  20  30 100]\n",
            " [ 40  50  60 200]]\n"
          ]
        }
      ]
    },
    {
      "cell_type": "markdown",
      "source": [
        "27. Write a Python program to remove specific elements in a numpy array.\n",
        "Expected Output:\n",
        "Original array:\n",
        "[ 10 20 30 40 50 60 70 80 90 100]\n",
        "Delete first, fourth and fifth elements:\n",
        "[ 20 30 60 70 80 90 100]"
      ],
      "metadata": {
        "id": "Y7Ubok2pcEv2"
      }
    },
    {
      "cell_type": "code",
      "source": [
        "arr_1 = np.array([10, 20, 30, 40, 50, 60, 70, 80, 90, 100])\n",
        "arr_1 = np.delete(arr_1, [0, 3, 4])\n",
        "print(arr_1)"
      ],
      "metadata": {
        "colab": {
          "base_uri": "https://localhost:8080/"
        },
        "id": "nMsraN7hcImk",
        "outputId": "a3b30b85-4b5c-4af1-dbe0-3b194fe79798"
      },
      "execution_count": 42,
      "outputs": [
        {
          "output_type": "stream",
          "name": "stdout",
          "text": [
            "[ 20  30  60  70  80  90 100]\n"
          ]
        }
      ]
    }
  ]
}